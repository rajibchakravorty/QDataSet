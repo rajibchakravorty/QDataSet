{
 "cells": [
  {
   "cell_type": "markdown",
   "metadata": {},
   "source": [
    "<H1> Notebook to verify the calculations of our simulator </H1>"
   ]
  },
  {
   "cell_type": "code",
   "execution_count": null,
   "metadata": {},
   "outputs": [],
   "source": [
    "# preample\n",
    "import qutip\n",
    "import zipfile\n",
    "import pickle\n",
    "import os\n",
    "import matplotlib.pyplot as plt\n",
    "import matplotlib.ticker as ticker\n",
    "from scipy.signal import freqs,periodogram,cheby1\n",
    "import numpy as np"
   ]
  },
  {
   "cell_type": "code",
   "execution_count": null,
   "metadata": {},
   "outputs": [],
   "source": [
    "# verification parameters\n",
    "dataset = \"S_1q_X_Z_N4_D\"\n",
    "ex_num  = 1"
   ]
  },
  {
   "cell_type": "code",
   "execution_count": null,
   "metadata": {},
   "outputs": [],
   "source": [
    "fname = \"%s_ex_%d\"%(dataset, ex_num)\n",
    "\n",
    "# unzip the dataset zipfile and extract the example file\n",
    "fzip  = zipfile.ZipFile(\"%s.zip\"%dataset, mode='r')\n",
    "fzip.extract( fname )\n",
    "fzip.close()\n",
    "\n",
    "# load the example file\n",
    "f     = open(fname,  \"rb\")\n",
    "data  = pickle.load(f)\n",
    "f.close()\n",
    "os.remove(fname)"
   ]
  },
  {
   "cell_type": "code",
   "execution_count": null,
   "metadata": {},
   "outputs": [],
   "source": [
    "# plot the pulse\n",
    "plt.figure()\n",
    "num_controls = len(data[\"sim_parameters\"][\"dynamic_operators\"])\n",
    "for idx in range(num_controls):\n",
    "    plt.subplot(num_controls , 1, idx+1 )\n",
    "    plt.plot(data[\"time_range\"], data[\"pulses\"][0,:,0,idx], label=\"undistorted\")\n",
    "    plt.plot(data[\"time_range\"], data[\"distorted_pulses\"][0,:,0,idx], label=\"distorted\")\n",
    "    plt.xlabel('t')\n",
    "    plt.ylabel('f(t)')\n",
    "    plt.grid()\n",
    "    plt.legend()\n",
    "print(data[\"pulse_parameters\"])"
   ]
  },
  {
   "cell_type": "code",
   "execution_count": null,
   "metadata": {},
   "outputs": [],
   "source": [
    "# display distortion filter if exists\n",
    "distortion = cheby1(4,0.1,2*np.pi*20, analog=True)\n",
    "# evaluate frequency response of the filter\n",
    "w, Hw = freqs(distortion[0], distortion[1])\n",
    "plt.figure(figsize=[15,4])\n",
    "plt.subplot(1,2,1)\n",
    "plt.semilogx(w, 20*np.log(np.abs(Hw)))\n",
    "plt.xlabel(r'$\\Omega$')\n",
    "plt.ylabel(r'$|H(\\Omega)|$')\n",
    "plt.grid()\n",
    "plt.subplot(1,2,2)\n",
    "plt.semilogx(w, np.angle(Hw))\n",
    "plt.xlabel(r'$\\Omega$')\n",
    "plt.ylabel(r'arg $H(\\Omega)$')\n",
    "plt.grid()"
   ]
  },
  {
   "cell_type": "code",
   "execution_count": null,
   "metadata": {},
   "outputs": [],
   "source": [
    "# display noise if exists\n",
    "for idx_profile,profile in enumerate(data[\"sim_parameters\"][\"noise_profile\"]): \n",
    "    if profile in [2,3,4] or (profile==6 and p==0): \n",
    "        # estimate the correlation matrix of the noise\n",
    "        correlation = 0\n",
    "        for k in range(data[\"sim_parameters\"][\"K\"]):\n",
    "            correlation = correlation + data[\"noise\"][0,:,k:k+1,idx_profile]@data[\"noise\"][0,:,k:k+1,idx_profile].T\n",
    "        correlation = correlation/data[\"sim_parameters\"][\"K\"]\n",
    "        # plot correlation matrix\n",
    "        plt.figure()\n",
    "        plt.matshow(correlation,0)\n",
    "        plt.colorbar()\n",
    "        p = 0\n",
    "    elif profile in [1,5]:\n",
    "        # estimate the PSD of the noise\n",
    "        psd = 0\n",
    "        for k in range(data[\"sim_parameters\"][\"K\"]):\n",
    "            f, Pxx = periodogram(data[\"noise\"][0,:,k,idx_profile], data[\"sim_parameters\"][\"M\"]/data[\"sim_parameters\"][\"T\"])            \n",
    "            psd = psd + Pxx\n",
    "        psd = psd/data[\"sim_parameters\"][\"K\"]\n",
    "        plt.figure()\n",
    "        plt.plot(f[f>0], psd[1:])\n",
    "        plt.xlabel('f')\n",
    "        plt.ylabel('psd')\n",
    "        plt.grid()\n",
    "        p = 1"
   ]
  },
  {
   "cell_type": "code",
   "execution_count": null,
   "metadata": {},
   "outputs": [],
   "source": [
    "# load initial states, measurement operators, and control Hamilotonian\n",
    "initial_states = [qutip.Qobj(state) for state in data[\"sim_parameters\"][\"initial_states\"] ] \n",
    "measurements   = [qutip.Qobj(op) for op in data[\"sim_parameters\"][\"measurement_operators\"] ]\n",
    "\n",
    "H0  = [ [qutip.Qobj(op), np.ones((len(data[\"time_range\"])))] for op in data[\"sim_parameters\"][\"static_operators\"] ] + [ [qutip.Qobj(op), data[\"distorted_pulses\"][0,:,0,idx]] for idx, op in enumerate(data[\"sim_parameters\"][\"dynamic_operators\"]) ]\n",
    "\n",
    "expectations = np.zeros((1,data[\"sim_parameters\"][\"K\"], len(initial_states)*len(measurements)))  \n",
    "for idx_K in range(data[\"sim_parameters\"][\"K\"]):    \n",
    "    H1      = [ [qutip.Qobj(op), data[\"noise\"][0,:,idx_K,idx]] for idx, op in enumerate(data[\"sim_parameters\"][\"noise_operators\"]) ]\n",
    "    results = [ qutip.mesolve(H0 + H1, rho, np.array(data[\"time_range\"]), e_ops=measurements).expect for rho in initial_states]     \n",
    "    expectations [0,idx_K, :] = np.concatenate( [np.array( [results[idx_rho][idx_M][-1] for idx_M in range(len(measurements))]) for idx_rho in range(len(initial_states))])\n",
    "    print(idx_K+1,  end=\"\\r\")"
   ]
  },
  {
   "cell_type": "code",
   "execution_count": null,
   "metadata": {},
   "outputs": [],
   "source": [
    "# plot the average expectation over all noise realizations for every observable\n",
    "plt.figure()\n",
    "plt.plot(np.average(expectations, 1)[0], label=\"qutip\")\n",
    "plt.plot(data[\"expectations\"][0], label = \"tf\")\n",
    "plt.ylabel(\"Average observable value\")\n",
    "plt.xlabel(\"observable Index\")\n",
    "plt.gca().xaxis.set_major_locator(ticker.MaxNLocator(integer=True))\n",
    "plt.legend()\n",
    "plt.grid()"
   ]
  },
  {
   "cell_type": "code",
   "execution_count": null,
   "metadata": {},
   "outputs": [],
   "source": [
    "# plot all possible observables for a particular noise realization\n",
    "idx_K = 2\n",
    "plt.figure()\n",
    "plt.plot(expectations[0,idx_K,:], label=\"qutip\")\n",
    "plt.plot(data[\"Eo\"][0,idx_K,:],  label = \"tf\")\n",
    "plt.ylabel(\"Observable Value for realization %d\"%idx_K)\n",
    "plt.xlabel(\"Observable Index\")\n",
    "plt.gca().xaxis.set_major_locator(ticker.MaxNLocator(integer=True))\n",
    "plt.legend()\n",
    "plt.grid()"
   ]
  },
  {
   "cell_type": "code",
   "execution_count": null,
   "metadata": {},
   "outputs": [],
   "source": [
    "# simulation time without I/O operations\n",
    "print(\"Total time for 1 batch is %f seconds\"%data[\"sim_parameters\"][\"elapsed_time\"])\n",
    "print(\"Average time for 1 example %f seconds\"%(data[\"sim_parameters\"][\"elapsed_time\"]/ data[\"sim_parameters\"][\"batch_size\"]))"
   ]
  },
  {
   "cell_type": "code",
   "execution_count": null,
   "metadata": {},
   "outputs": [],
   "source": []
  }
 ],
 "metadata": {
  "kernelspec": {
   "display_name": "Python 3 (ipykernel)",
   "language": "python",
   "name": "python3"
  },
  "language_info": {
   "codemirror_mode": {
    "name": "ipython",
    "version": 3
   },
   "file_extension": ".py",
   "mimetype": "text/x-python",
   "name": "python",
   "nbconvert_exporter": "python",
   "pygments_lexer": "ipython3",
   "version": "3.8.11"
  }
 },
 "nbformat": 4,
 "nbformat_minor": 2
}
